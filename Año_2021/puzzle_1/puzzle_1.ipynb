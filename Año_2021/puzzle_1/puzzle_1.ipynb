{
 "cells": [
  {
   "cell_type": "markdown",
   "metadata": {},
   "source": [
    "# Puzzle 1\n",
    "\n",
    "¡Estás ocupándote de tus propios asuntos en un barco en el mar cuando suena la alarma de mar! Te apresuras a ver si puedes ayudar. ¡Aparentemente, uno de los Elfos tropezó y accidentalmente envió las llaves del trineo volando al océano!\n",
    "\n",
    "Antes de que te des cuenta, estás dentro de un submarino que los Elfos mantienen preparados para situaciones como esta. Está cubierto de luces navideñas (porque por supuesto que lo está), e incluso tiene una antena experimental que debería poder rastrear las teclas si puede aumentar la intensidad de la señal lo suficiente; hay un pequeño medidor que indica la intensidad de la señal de la antena mostrando 0-50 estrellas.\n",
    "\n",
    "Tus instintos te dicen que para salvar la Navidad, necesitarás obtener las cincuenta estrellas antes del 25 de diciembre.\n",
    "\n",
    "Recoge estrellas resolviendo acertijos. Dos rompecabezas estarán disponibles cada día en el calendario de Adviento; el segundo rompecabezas se desbloquea cuando completas el primero. Cada rompecabezas otorga una estrella. ¡Buena suerte!\n",
    "\n",
    "A medida que el submarino desciende por debajo de la superficie del océano, automáticamente realiza un barrido de sonar del fondo marino cercano. En una pantalla pequeña, aparece el informe de barrido de la sonda (la entrada del rompecabezas): cada línea es una medida de la profundidad del fondo del mar a medida que el barrido se ve cada vez más lejos del submarino.\n",
    "\n",
    "Por ejemplo, suponga que tiene el siguiente informe:\n",
    "\n",
    "199\n",
    "200\n",
    "208\n",
    "210\n",
    "200\n",
    "207\n",
    "240\n",
    "269\n",
    "260\n",
    "263\n",
    "Este informe indica que, escaneando hacia afuera desde el submarino, el barrido del sonar encontró profundidades de 199, 200, 208, 210, etc.\n",
    "\n",
    "La primera orden del día es averiguar qué tan rápido aumenta la profundidad, solo para que sepa con qué está lidiando: nunca se sabe si las llaves serán llevadas a aguas más profundas por una corriente oceánica o un pez o algo así.\n",
    "\n",
    "Para hacer esto, cuente el número de veces que una medición de profundidad aumenta con respecto a la medición anterior. (No hay medición antes de la primera medición). En el ejemplo anterior, los cambios son los siguientes:\n",
    "\n",
    "199 (N / A - sin medición previa)\n",
    "200 (aumentado)\n",
    "208 (aumentado)\n",
    "210 (aumentado)\n",
    "200 (disminuido)\n",
    "207 (aumentado)\n",
    "240 (aumentado)\n",
    "269 ​​(aumentado)\n",
    "260 (disminuido)\n",
    "263 (aumentado)\n",
    "En este ejemplo, hay 7 medidas que son más grandes que la medida anterior.\n",
    "\n",
    "¿Cuántas medidas son más grandes que la medida anterior?"
   ]
  },
  {
   "cell_type": "markdown",
   "metadata": {},
   "source": [
    "## Logica de Resolucion\n"
   ]
  },
  {
   "cell_type": "markdown",
   "metadata": {},
   "source": [
    "Bueno Para comenzar lo que nos piden es basicamente encontrar los numeros que sonn mayores a los numeros que le preceden, para eso:\n",
    "\n",
    "*  Hay que saber que al primer numero no lo precede ningun numero, es decir vamos a tomar ese como nuestro primer valor y lo dejaremos guardado en una variable llamada `valor`.\n",
    "\n",
    "* Luego en una variable llamada `contador` almacenaremos la cantidad de veces que encontramos que un numero es mas grande que el numero que lo precede.\n",
    "\n",
    "* Con un ciclo for vamos a recorrer todos los datos dentro del archivo, linea por linea, y guadaremos cada valor en una variable llamada `valor_actual`\n",
    "\n",
    "* Luego simplemente preguntamos, si `valor_actual` es mayor que `valor` y si es asi incrementamos en uno el valor de la variable `contador`, ya que esto significa que encontramos uno de los daros que necesitabamos !\n",
    "\n",
    "* Vamos a ir actualizando `valor` con lo que estaba almacenado en `variable_actual` para siempre compararlo con el anterior\n",
    "\n",
    "* Mostramos el dato almacenado en la variable `contador` y eso nos dara nuestro Resultado :)"
   ]
  },
  {
   "cell_type": "markdown",
   "metadata": {},
   "source": [
    "## Entrada de Datos"
   ]
  },
  {
   "cell_type": "markdown",
   "metadata": {},
   "source": [
    "Si quieres ver la entrada de datos que me toco para practicar, se encuentra en el archivo `input_puzzle1.txt`"
   ]
  },
  {
   "cell_type": "markdown",
   "metadata": {},
   "source": [
    "## Codigo"
   ]
  },
  {
   "cell_type": "code",
   "execution_count": 43,
   "metadata": {},
   "outputs": [
    {
     "name": "stdout",
     "output_type": "stream",
     "text": [
      "1616\n"
     ]
    }
   ],
   "source": [
    "contenido = open('input_puzzle1.txt', 'r')\n",
    "mensaje = contenido.readlines()\n",
    "valor = int(mensaje[0])\n",
    "contador = 0\n",
    "for linea in mensaje:\n",
    "    valor_nuevo = int(linea)\n",
    "    if valor_nuevo > valor:\n",
    "        contador += 1\n",
    "    valor = valor_nuevo\n",
    "print(contador)\n",
    "    "
   ]
  },
  {
   "cell_type": "markdown",
   "metadata": {},
   "source": [
    "## Resultado Parte1: 1616"
   ]
  },
  {
   "cell_type": "markdown",
   "metadata": {},
   "source": [
    "## Parte 2\n",
    "\n",
    "--- La segunda parte ---\n",
    "Tener en cuenta que cada medición no es tan útil como esperaba: hay demasiado ruido en los datos.\n",
    "\n",
    "En su lugar, considere las sumas de una ventana deslizante de tres medidas. Nuevamente considerando el ejemplo anterior:\n",
    "\n",
    "199 A\n",
    "200 A B\n",
    "208 A B C\n",
    "210 B C D\n",
    "200 E C D\n",
    "207 E F D\n",
    "240 E F G\n",
    "269 ​​F G H\n",
    "260 G H\n",
    "263 H\n",
    "Empiece por comparar la primera y la segunda ventana de tres mediciones. Las medidas de la primera ventana están marcadas con A (199, 200, 208); su suma es 199 + 200 + 208 = 607. La segunda ventana está marcada como B (200, 208, 210); su suma es 618. La suma de las medidas en la segunda ventana es mayor que la suma de la primera, por lo que esta primera comparación aumentó.\n",
    "\n",
    "Su objetivo ahora es contar el número de veces que la suma de medidas en esta ventana deslizante aumenta con respecto a la suma anterior. Entonces, compare A con B, luego compare B con C, luego C con D, y así sucesivamente. Deténgase cuando no queden suficientes medidas para crear una nueva suma de tres medidas.\n",
    "\n",
    "En el ejemplo anterior, la suma de cada ventana de tres medidas es la siguiente:\n",
    "\n",
    "A: 607 (N / A - sin suma previa)\n",
    "B: 618 (aumentado)\n",
    "C: 618 (sin cambios)\n",
    "D: 617 (disminuido)\n",
    "E: 647 (aumentado)\n",
    "F: 716 (aumentado)\n",
    "G: 769 (aumentado)\n",
    "H: 792 (aumentado)\n",
    "En este ejemplo, hay 5 sumas que son mayores que la suma anterior.\n",
    "\n",
    "Considere las sumas de una ventana deslizante de tres medidas. ¿Cuántas sumas son mayores que la suma anterior?"
   ]
  },
  {
   "cell_type": "markdown",
   "metadata": {},
   "source": [
    "## Logica de Resolucion\n",
    "\n",
    "Utilizando la misma entrada de datos, ahora lo que nos piden es separar eso datos en grupos de a 3, y ver si la suma de los grupos (en este ejercicio le llaman ventanas) es mayor que el grupo anterior, para eso:\n",
    "\n",
    "* Uutilizamos una lista para guardar los valores y luego sumamos los valores dentro de la lista para luego compararala.\n",
    "\n",
    "* en una variable llamada `limite` guardamos el maximo valor hasta el cual va a iterar el ciclo for, ya que si se pasa de esevalor no va a poder armar los grupos de 3.\n",
    "\n",
    "* con cun ciclo recorremos los datos y si no estamos iterando por encima del `limite` entonces, vamos a capturar nuevos grupos de 3, sumar los valores dentro del grupo y compararlos con los del grupo anterior.\n",
    "\n",
    "* en `contador` guardaremos el valor de la cantidad de grupos, que su suma de valores, es mayor que el grupo anterior, entonces, cada vez que encuntre algo asi se incrementara en 1.\n",
    "\n",
    "* actualizamos el valor de `suma`con `suma_actual` para siempre ir comparando con el ultimo\n",
    "* Al final mostraremos el valor almacenado en `contador` y eso nos dara el resultado\n",
    "\n"
   ]
  },
  {
   "cell_type": "markdown",
   "metadata": {},
   "source": [
    "## Codigo"
   ]
  },
  {
   "cell_type": "code",
   "execution_count": 41,
   "metadata": {},
   "outputs": [
    {
     "name": "stdout",
     "output_type": "stream",
     "text": [
      " contador: 1645\n"
     ]
    }
   ],
   "source": [
    "contenido = open('input_puzzle1.txt', 'r')\n",
    "mensaje = contenido.readlines()\n",
    "j = 0\n",
    "lista_inicial = [int(str(mensaje[j]).strip()), \n",
    "                 int(str(mensaje[j + 1]).strip()),\n",
    "                 int(str(mensaje[j + 2]).strip())]\n",
    "suma = sum(lista_inicial)\n",
    "limite = len(mensaje) - 2\n",
    "contador = 0\n",
    "for i in range(len(mensaje)):\n",
    "    if (i < limite):\n",
    "        lista = [int(str(mensaje[i]).strip()), \n",
    "                int(str(mensaje[i + 1]).strip()), \n",
    "                int(str(mensaje[i + 2]).strip())]\n",
    "        suma_actual = sum(lista)\n",
    "        if suma_actual > suma:\n",
    "            contador += 1\n",
    "        suma = suma_actual \n",
    "print(f' contador: {contador}')\n"
   ]
  },
  {
   "cell_type": "markdown",
   "metadata": {},
   "source": [
    "## Respuesta Parte2: 1645"
   ]
  }
 ],
 "metadata": {
  "interpreter": {
   "hash": "1c89a90377eece21ee0425ad091a5749733881ced06b623943ecd505384e0cee"
  },
  "kernelspec": {
   "display_name": "Python 3.9.4 64-bit",
   "language": "python",
   "name": "python3"
  },
  "language_info": {
   "codemirror_mode": {
    "name": "ipython",
    "version": 3
   },
   "file_extension": ".py",
   "mimetype": "text/x-python",
   "name": "python",
   "nbconvert_exporter": "python",
   "pygments_lexer": "ipython3",
   "version": "3.9.4"
  },
  "orig_nbformat": 4
 },
 "nbformat": 4,
 "nbformat_minor": 2
}
