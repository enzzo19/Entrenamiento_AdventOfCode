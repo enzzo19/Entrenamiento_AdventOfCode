{
 "cells": [
  {
   "cell_type": "markdown",
   "metadata": {},
   "source": [
    "# Puzzle 4\n",
    "\n",
    "--- Día 4: Calamar gigante ---\n",
    "Ya estás casi 1,5 km (casi una milla) por debajo de la superficie del océano, ya es tan profundo que no puedes ver la luz del sol. Sin embargo, lo que puedes ver es un calamar gigante que se ha adherido al exterior de tu submarino.\n",
    "\n",
    "¿Quizás quiere jugar al bingo?\n",
    "\n",
    "El bingo se juega en un conjunto de tableros, cada uno de los cuales consta de una cuadrícula de números de 5x5. Los números se eligen al azar y el número elegido se marca en todos los tableros en los que aparece. (Es posible que los números no aparezcan en todos los tableros). Si se marcan todos los números de cualquier fila o columna de un tablero, ese tablero gana. (Las diagonales no cuentan).\n",
    "\n",
    "El submarino tiene un subsistema de bingo para ayudar a los pasajeros (actualmente, tú y el calamar gigante) a pasar el tiempo. Genera automáticamente un orden aleatorio en el que dibujar números y un conjunto aleatorio de tableros (su entrada de rompecabezas). Por ejemplo:\n",
    "\n",
    "```\n",
    "7,4,9,5,11,17,23,2,0,14,21,24,10,16,13,6,15,25,12,22,18,20,8,19,3, 26,1\n",
    "\n",
    "\n",
    "22 13 17 11 0\n",
    " 8 2 23 4 24\n",
    "21 9 14 16 7\n",
    " 6 10 3 18 5\n",
    " 1 12 20 15 19\n",
    "\n",
    "\n",
    " 3 15 0 2 22\n",
    " 9 18 13 17 5\n",
    "19 8 7 25 23\n",
    "20 11 10 24 4\n",
    "14 21 16 12 6\n",
    "\n",
    "14 21 17 24 4\n",
    "10 16 15 9 19\n",
    "18 8 23 26 20\n",
    "22 11 13 6 5\n",
    " 2 0 12 3 7\n",
    "```\n",
    "\n",
    "Después de que se extraigan los primeros cinco números (7, 4, 9, 5 y 11), no hay ganadores, pero los tableros están marcados de la siguiente manera (se muestran aquí adyacentes entre sí para ahorrar espacio):\n",
    "\n",
    "```\n",
    "22 13 17 11 0       3 15 0 2 22         14 21 17 24 4\n",
    " 8 2 23 4 24        9 18 13 17 5        10 16 15 9 19\n",
    "21 9 14 16 7        19 8 7 25 23        18 8 23 26 20\n",
    " 6 10 3 18 5        20 11 10 24 4       22 11 13 6 5\n",
    " 1 12 20 15 19      14 21 16 12 6       2 0 12 3 7\n",
    "```\n",
    "\n",
    "Después de que se extraigan los siguientes seis números (17, 23, 2, 0, 14 y 21), todavía no hay ganadores:\n",
    "\n",
    "```\n",
    "22 13 17 11 0       3 15 0 2 22         14 21 17 24 4\n",
    " 8 2 23 4 24        9 18 13 17 5        10 16 15 9 19\n",
    "21 9 14 16 7        19 8 7 25 23        18 8 23 26 20\n",
    " 6 10 3 18 5        20 11 10 24 4       22 11 13 6 5\n",
    " 1 12 20 15 19      14 21 16 12 6        2 0 12 3 7\n",
    "```\n",
    "\n",
    "Finalmente, se extrae 24:\n",
    "\n",
    "```\n",
    "22 13 17 11 0       3 15 0 2 22         14 21 17 24 4\n",
    " 8 2 23 4 24        9 18 13 17 5        10 16 15 9 19\n",
    "21 9 14 16 7        19 8 7 25 23        18 8 23 26 20\n",
    " 6 10 3 18 5        20 11 10 24 4       22 11 13 6 5\n",
    " 1 12 20 15 19      14 21 16 12 6       2 0 12 3 7\n",
    "```\n",
    "\n",
    "En este punto, el tercer tablero gana porque tiene al menos una fila o columna completa de números marcados (en este caso, toda la fila superior está marcada: 14 21 17 24 4).\n",
    "\n",
    "Ahora se puede calcular la puntuación del tablero ganador. Empiece por encontrar la suma de todos los números sin marcar en ese tablero; en este caso, la suma es 188. Luego, multiplique esa suma por el número que se acaba de llamar cuando ganó el tablero, 24, para obtener el puntaje final, 188 * 24 = 4512.\n",
    "\n",
    "Para garantizar la victoria contra el calamar gigante, averigüe qué tablero ganará primero. ¿Cuál será tu puntuación final si eliges esa tabla?"
   ]
  },
  {
   "cell_type": "code",
   "execution_count": 14,
   "metadata": {},
   "outputs": [
    {
     "name": "stdout",
     "output_type": "stream",
     "text": [
      "100\n"
     ]
    }
   ],
   "source": [
    "contenido = open('input_puzzle4.txt', 'r')\n",
    "mensaje = contenido.readlines()\n",
    "contador = 0\n",
    "for linea in mensaje:\n",
    "    if linea == '\\n':\n",
    "        contador += 1\n",
    "print(contador)"
   ]
  }
 ],
 "metadata": {
  "interpreter": {
   "hash": "1c89a90377eece21ee0425ad091a5749733881ced06b623943ecd505384e0cee"
  },
  "kernelspec": {
   "display_name": "Python 3.9.4 64-bit",
   "language": "python",
   "name": "python3"
  },
  "language_info": {
   "codemirror_mode": {
    "name": "ipython",
    "version": 3
   },
   "file_extension": ".py",
   "mimetype": "text/x-python",
   "name": "python",
   "nbconvert_exporter": "python",
   "pygments_lexer": "ipython3",
   "version": "3.9.4"
  },
  "orig_nbformat": 4
 },
 "nbformat": 4,
 "nbformat_minor": 2
}
