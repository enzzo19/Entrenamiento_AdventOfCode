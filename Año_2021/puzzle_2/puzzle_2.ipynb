{
 "cells": [
  {
   "cell_type": "markdown",
   "metadata": {},
   "source": [
    "# Puzzle 2\n",
    "\n",
    "--- Day 2: Dive! ---\n",
    "\n",
    "Ahora, debes descubrir cómo pilotar esta cosa.\n",
    "\n",
    "Parece que el submarino puede tomar una serie de comandos como avanzar 1, bajar 2 o subir 3:\n",
    "\n",
    "forward X aumenta la posición horizontal en X unidades.\n",
    "down X aumenta la profundidad en X unidades.\n",
    "up X disminuye la profundidad en X unidades.\n",
    "Tenga en cuenta que, dado que está en un submarino, subir y bajar afectan su profundidad, por lo que tienen el resultado opuesto de lo que podría esperar.\n",
    "\n",
    "Parece que el submarino ya tiene un rumbo planificado (tu entrada del rompecabezas). Probablemente debería averiguar hacia dónde se dirige. Por ejemplo:\n",
    "\n",
    "forward 5\n",
    "\n",
    "down 5\n",
    "\n",
    "forward 8\n",
    "\n",
    "up 3\n",
    "\n",
    "down 8\n",
    "\n",
    "forward 2\n",
    "\n",
    "Su posición horizontal y profundidad comienzan en 0. Los pasos anteriores los modificarían de la siguiente manera:\n",
    "\n",
    "forward 5 suma 5 a su posición horizontal, un total de 5.\n",
    "down 5 agrega 5 a su profundidad, lo que resulta en un valor de 5.\n",
    "forward 8 suma 8 a su posición horizontal, un total de 13.\n",
    "up 3 disminuye la profundidad en 3, lo que da como resultado un valor de 2.\n",
    "down 8 agrega 8 a su profundidad, lo que resulta en un valor de 10.\n",
    "forward 2 suma 2 a su posición horizontal, un total de 15.\n",
    "Después de seguir estas instrucciones, tendrías una posición horizontal de 15 y una profundidad de 10. (Multiplicarlos juntos produce 150).\n",
    "\n",
    "Calcula la posición horizontal y la profundidad que tendrías después de seguir el rumbo planificado. ¿Qué obtienes si multiplicas tu posición horizontal final por tu profundidad final?"
   ]
  },
  {
   "cell_type": "markdown",
   "metadata": {},
   "source": [
    "## Logica de Resolucion\n",
    "\n",
    "En este caso vemos que lo que quereos es obtener la posicion de como se mueve nuestro submarino, y la entradas de dat trae tanto una instruccion sobre como movernos, como tambien una cantidad de movimiento, para eso:\n",
    "\n",
    "* Recorremos lo valores de nuestra entrada de datos, con un ciclo for\n",
    "\n",
    "* el mensaje que lo recibimos lo vamos a separar en `comando` que sera la instruccion de como moverse y tambien la `cantidad` que guardara el valor de la cantidad de movimiento que tiene que hacer.\n",
    "\n",
    "* luego veremos el valor que tiene el comando y de acuerdo a eso vamos a cambiar los valores de `posicion` y de `profundidad`\n",
    "\n",
    "* Al final vamos a mostrar el resultado de la operacion de: `posicion * profundidad`"
   ]
  },
  {
   "cell_type": "markdown",
   "metadata": {},
   "source": [
    "## Entrada de Datos\n",
    "\n",
    "Si quieres ver la entrada de datos que me toco para practicar, se encuentra en el archivo `input_puzzle2.txt`"
   ]
  },
  {
   "cell_type": "markdown",
   "metadata": {},
   "source": [
    "## Codigo"
   ]
  },
  {
   "cell_type": "code",
   "execution_count": 8,
   "metadata": {},
   "outputs": [
    {
     "name": "stdout",
     "output_type": "stream",
     "text": [
      "1947824\n"
     ]
    }
   ],
   "source": [
    "contenido = open('input_puzzle2.txt', 'r')\n",
    "mensaje = contenido.readlines()\n",
    "# comienza en posicion 0 y profundidad 0\n",
    "posicion = 0\n",
    "profundidad = 0\n",
    "for linea in mensaje:\n",
    "    comando, cantidad = linea.split(' ')[0], linea.split(' ')[1]\n",
    "    if comando == 'forward':\n",
    "        posicion += int(cantidad)\n",
    "    if comando == 'down':\n",
    "        profundidad += int(cantidad)\n",
    "    if comando == 'up':\n",
    "        profundidad -= int(cantidad)\n",
    "\n",
    "total = posicion * profundidad\n",
    "print(total)\n",
    "    "
   ]
  },
  {
   "cell_type": "markdown",
   "metadata": {},
   "source": [
    "## Resultado Parte1: 1947824"
   ]
  },
  {
   "cell_type": "markdown",
   "metadata": {},
   "source": [
    "## Parte 2\n",
    "\n",
    "--- La segunda parte ---\n",
    "Según sus cálculos, el curso planeado no parece tener ningún sentido. Encuentra el manual del submarino y descubre que el proceso es en realidad un poco más complicado.\n",
    "\n",
    "Además de la posición horizontal y la profundidad, también deberá realizar un seguimiento de un tercer valor, el objetivo, que también comienza en 0. Los comandos también significan algo completamente diferente de lo que pensó al principio:\n",
    "\n",
    "down X aumenta tu puntería en X unidades.\n",
    "up X disminuye tu puntería en X unidades.\n",
    "forward X hace dos cosas:\n",
    "Aumenta su posición horizontal en X unidades.\n",
    "Aumenta tu profundidad por tu puntería multiplicada por X.\n",
    "Una vez más, tenga en cuenta que, dado que está en un submarino, subir y bajar hacen lo contrario de lo que podría esperar: \"abajo\" significa apuntar en la dirección positiva.\n",
    "\n",
    "Ahora, el ejemplo anterior hace algo diferente:\n",
    "\n",
    "forward 5 suma 5 a su posición horizontal, un total de 5. Debido a que su objetivo es 0, su profundidad no cambia.\n",
    "down 5 suma 5 a tu objetivo, lo que da como resultado un valor de 5.\n",
    "forward 8 suma 8 a su posición horizontal, un total de 13. Como su objetivo es 5, su profundidad aumenta en 8 * 5 = 40.\n",
    "up 3 disminuye tu puntería en 3, lo que da como resultado un valor de 2.\n",
    "down 8 suma 8 a su objetivo, lo que da como resultado un valor de 10.\n",
    "forward 2 suma 2 a tu posición horizontal, un total de 15. Como tu objetivo es 10, tu profundidad aumenta en 2 * 10 = 20 hasta un total de 60.\n",
    "Después de seguir estas nuevas instrucciones, tendrías una posición horizontal de 15 y una profundidad de 60 (multiplicar estas produce 900).\n",
    "\n",
    "Con esta nueva interpretación de los comandos, calcule la posición horizontal y la profundidad que tendría después de seguir el rumbo planificado. ¿Qué obtienes si multiplicas tu posición horizontal final por tu profundidad final?"
   ]
  },
  {
   "cell_type": "markdown",
   "metadata": {},
   "source": [
    "## Logica de Resolucion\n",
    "\n",
    "No hay mucha diferencia entre lo que teniamos hace un rato y ahora, solo que tenemos ahora tambien un `objetivo` y este se modificara con los comandos `up` y `down` y luego tenemosl comando `forward` que va a tener 2 acciones mencionadas en el enunciado."
   ]
  },
  {
   "cell_type": "markdown",
   "metadata": {},
   "source": [
    "## Codigo"
   ]
  },
  {
   "cell_type": "code",
   "execution_count": 10,
   "metadata": {},
   "outputs": [
    {
     "name": "stdout",
     "output_type": "stream",
     "text": [
      "1813062561\n"
     ]
    }
   ],
   "source": [
    "contenido = open('input_puzzle2.txt', 'r')\n",
    "mensaje = contenido.readlines()\n",
    "# comienza en posicion 0 y profundidad 0\n",
    "posicion = 0\n",
    "profundidad = 0\n",
    "objetivo = 0\n",
    "for linea in mensaje:\n",
    "    comando, cantidad = linea.split(' ')[0], linea.split(' ')[1]\n",
    "    if comando == 'forward':\n",
    "        posicion += int(cantidad)\n",
    "        profundidad += int(cantidad) * int(objetivo)\n",
    "    if comando == 'up':\n",
    "        objetivo -= int(cantidad)\n",
    "    if comando == 'down':\n",
    "        objetivo += int(cantidad)\n",
    "total = posicion * profundidad\n",
    "print(total)"
   ]
  },
  {
   "cell_type": "markdown",
   "metadata": {},
   "source": [
    "## Resultado Parte2: 1813062561"
   ]
  }
 ],
 "metadata": {
  "interpreter": {
   "hash": "1c89a90377eece21ee0425ad091a5749733881ced06b623943ecd505384e0cee"
  },
  "kernelspec": {
   "display_name": "Python 3.9.4 64-bit",
   "language": "python",
   "name": "python3"
  },
  "language_info": {
   "codemirror_mode": {
    "name": "ipython",
    "version": 3
   },
   "file_extension": ".py",
   "mimetype": "text/x-python",
   "name": "python",
   "nbconvert_exporter": "python",
   "pygments_lexer": "ipython3",
   "version": "3.9.4"
  },
  "orig_nbformat": 4
 },
 "nbformat": 4,
 "nbformat_minor": 2
}
