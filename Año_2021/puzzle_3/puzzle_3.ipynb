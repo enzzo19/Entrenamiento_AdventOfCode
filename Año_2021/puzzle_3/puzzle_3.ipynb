{
 "cells": [
  {
   "cell_type": "markdown",
   "metadata": {},
   "source": [
    "# Puzzle 3\n",
    "\n",
    "--- Día 3: Diagnóstico binario ---\n",
    "El submarino ha estado haciendo algunos crujidos extraños, así que le pides que produzca un informe de diagnóstico por si acaso.\n",
    "\n",
    "El informe de diagnóstico (su entrada del rompecabezas) consiste en una lista de números binarios que, cuando se decodifican correctamente, pueden decirle muchas cosas útiles sobre las condiciones del submarino. El primer parámetro a comprobar es el consumo de energía.\n",
    "\n",
    "Debe usar los números binarios en el informe de diagnóstico para generar dos nuevos números binarios (llamados tasa gamma y tasa épsilon). El consumo de energía se puede calcular multiplicando la tasa gamma por la tasa épsilon.\n",
    "\n",
    "Cada bit de la velocidad gamma se puede determinar encontrando el bit más común en la posición correspondiente de todos los números en el informe de diagnóstico. Por ejemplo, dado el siguiente informe de diagnóstico:\n",
    "\n",
    "00100\n",
    "\n",
    "11110\n",
    "\n",
    "10110\n",
    "\n",
    "10111\n",
    "\n",
    "10101\n",
    "\n",
    "01111\n",
    "\n",
    "00111\n",
    "\n",
    "11100\n",
    "\n",
    "10000\n",
    "\n",
    "11001\n",
    "\n",
    "00010\n",
    "\n",
    "01010\n",
    "\n",
    "Considerando solo el primer bit de cada número, hay cinco bits 0 y siete bits 1. Dado que el bit más común es 1, el primer bit de la velocidad gamma es 1.\n",
    "\n",
    "El segundo bit más común de los números en el informe de diagnóstico es 0, por lo que el segundo bit de la tasa de gamma es 0.\n",
    "\n",
    "El valor más común del tercer, cuarto y quinto bits son 1, 1 y 0, respectivamente, por lo que los tres últimos bits de la velocidad gamma son 110.\n",
    "\n",
    "Entonces, la tasa gamma es el número binario 10110, o 22 en decimal.\n",
    "\n",
    "La tasa de épsilon se calcula de manera similar; en lugar de usar el bit más común, se usa el bit menos común de cada posición. Entonces, la tasa de épsilon es 01001, o 9 en decimal. Multiplicar la tasa gamma (22) por la tasa épsilon (9) produce el consumo de energía, 198.\n",
    "\n",
    "Utilice los números binarios en su informe de diagnóstico para calcular la tasa gamma y la tasa épsilon, luego multiplíquelos. ¿Cuál es el consumo de energía del submarino? (Asegúrese de representar su respuesta en decimal, no en binario)."
   ]
  },
  {
   "cell_type": "markdown",
   "metadata": {},
   "source": [
    "## Logica de Resolucion\n",
    "\n",
    "Bueno como vemos lo que nos piden es un codigo que hay que convertir de binario a decimal luego de determinar cual es el bit mas significativo en esa posicion, para eso:\n",
    "\n",
    "* Cada codigo dentro de la entrada de datos tiene 12 digitos, por lo tanto nuestra salida debe ser tambien de 12 digitos en binario.\n",
    "\n",
    "* Vamos a recorrer los valores dentro de la entrada en una posicion especifica y iremos viendo si el digito es un `0` o quizas ese digito es un `1` y de acuerdo al valor vamos a ir incrementando `digito_cero` o `digito_uno`.\n",
    "\n",
    "* luego de recorrer los valores de entrada en tal posicion iremos armando nosotros nuestra salida de acuerdo a si tenemos mas `ceros` o quizas mas `unos` entonces con una condicion vemos si lo que queremos es agregar un `0` en `gamma` y un `1` en `epsilon`, es decir vamos a ir concatenando, o si a lo mejor necesitamos concatenar un `1` en `gamma` y un `0` en epsilon.\n",
    "\n",
    "* Una vez que recorrimos todos los valores en todas las posiciones, nos deben quedar tanto en `gamma` como en `epsilon` 2 numeros binarios.\n",
    "\n",
    "* convertimos con una funcion esos numeros binarios a decimales.\n",
    "\n",
    "* Multiplicamos los valores en decimal de `gamma` y el de `epsilon` y lo asignamos a `resultado`.\n",
    "\n",
    "* Mostramos ese Resultado y es nuestra respuesta a la parte 1."
   ]
  },
  {
   "cell_type": "markdown",
   "metadata": {},
   "source": [
    "## Entrada de Datos\n",
    "\n",
    "Si quieres ver la entrada de datos que me toco para practicar, se encuentra en el archivo `input_puzzle3.txt`"
   ]
  },
  {
   "cell_type": "markdown",
   "metadata": {},
   "source": [
    "## Codigo"
   ]
  },
  {
   "cell_type": "code",
   "execution_count": 19,
   "metadata": {},
   "outputs": [],
   "source": [
    "def binario_a_decimal(binario):\n",
    "    posicion = 0\n",
    "    decimal = 0\n",
    "    # Invertir la cadena porque debemos recorrerla de derecha a izquierda\n",
    "    binario = binario[::-1]\n",
    "    for digito in binario:\n",
    "        # Elevar 2 a la posición actual\n",
    "        multiplicador = 2**posicion\n",
    "        decimal += int(digito) * multiplicador\n",
    "        posicion += 1\n",
    "    return decimal\n"
   ]
  },
  {
   "cell_type": "code",
   "execution_count": 32,
   "metadata": {},
   "outputs": [
    {
     "name": "stdout",
     "output_type": "stream",
     "text": [
      "1082324\n"
     ]
    }
   ],
   "source": [
    "contenido = open('input_puzzle3.txt', 'r')\n",
    "mensaje = contenido.readlines()\n",
    "contador_cero = 0\n",
    "contador_uno = 0\n",
    "gamma = ''\n",
    "epsilon = ''\n",
    "for i in range(12):\n",
    "    for linea in mensaje:\n",
    "        valor = linea[i]\n",
    "        if valor == '0':\n",
    "            contador_cero += 1\n",
    "        if valor == '1':\n",
    "            contador_uno += 1\n",
    "    if contador_cero > contador_uno:\n",
    "        gamma = gamma + '0'\n",
    "        epsilon = epsilon + '1'\n",
    "    else:\n",
    "        gamma = gamma + '1'\n",
    "        epsilon = epsilon + '0'\n",
    "    contador_cero = 0\n",
    "    contador_uno = 0\n",
    "\n",
    "decimal_gamma = binario_a_decimal(gamma)\n",
    "decimal_epsilon = binario_a_decimal(epsilon)\n",
    "resultado = decimal_gamma * decimal_epsilon\n",
    "\n",
    "print(resultado)"
   ]
  },
  {
   "cell_type": "markdown",
   "metadata": {},
   "source": [
    "## Resultado Parte1: 1082324"
   ]
  },
  {
   "cell_type": "markdown",
   "metadata": {},
   "source": [
    "## Parte2\n",
    "\n",
    "--- La segunda parte ---\n",
    "A continuación, debe verificar la clasificación de soporte vital, que se puede determinar multiplicando la clasificación del generador de oxígeno por la clasificación del depurador de CO2.\n",
    "\n",
    "Tanto la clasificación del generador de oxígeno como la clasificación del depurador de CO2 son valores que se pueden encontrar en su informe de diagnóstico; encontrarlos es la parte difícil. Ambos valores se ubican mediante un proceso similar que implica filtrar valores hasta que solo queda uno. Antes de buscar cualquiera de los valores de calificación, comience con la lista completa de números binarios de su informe de diagnóstico y considere solo el primer bit de esos números. Luego:\n",
    "\n",
    "Mantenga solo los números seleccionados por los criterios de bit para el tipo de valor de clasificación que está buscando. Descarte los números que no coincidan con los criterios de bits.\n",
    "Si solo le queda un número, deténgase; este es el valor de clasificación que está buscando.\n",
    "De lo contrario, repita el proceso, considerando el siguiente bit a la derecha.\n",
    "Los criterios de bits dependen del tipo de valor de clasificación que desee encontrar:\n",
    "\n",
    "Para encontrar la clasificación del generador de oxígeno, determine el valor más común (0 o 1) en la posición actual del bit y mantenga solo los números con ese bit en esa posición. Si 0 y 1 son igualmente comunes, mantenga los valores con un 1 en la posición que se está considerando.\n",
    "Para encontrar la clasificación del depurador de CO2, determine el valor mínimo común (0 o 1) en la posición actual del bit y mantenga solo los números con ese bit en esa posición. Si 0 y 1 son igualmente comunes, mantenga los valores con un 0 en la posición que se está considerando.\n",
    "Por ejemplo, para determinar el valor nominal del generador de oxígeno utilizando el mismo informe de diagnóstico de ejemplo anterior:\n",
    "\n",
    "Comience con los 12 números y considere solo el primer bit de cada número. Hay más 1 bits (7) que 0 bits (5), así que mantenga solo los 7 números con un 1 en la primera posición: 11110, 10110, 10111, 10101, 11100, 10000 y 11001.\n",
    "Luego, considere el segundo bit de los 7 números restantes: hay más 0 bits (4) que 1 bits (3), así que mantenga solo los 4 números con un 0 en la segunda posición: 10110, 10111, 10101 y 10000.\n",
    "En la tercera posición, tres de los cuatro números tienen un 1, así que mantén esos tres: 10110, 10111 y 10101.\n",
    "En la cuarta posición, dos de los tres números tienen un 1, así que mantén esos dos: 10110 y 10111.\n",
    "En la quinta posición, hay un número igual de 0 bits y 1 bits (uno cada uno). Entonces, para encontrar la clasificación del generador de oxígeno, mantenga el número con un 1 en esa posición: 10111.\n",
    "Como solo queda un número, deténgase; la clasificación del generador de oxígeno es 10111, o 23 en decimal.\n",
    "Luego, para determinar el valor de clasificación del depurador de CO2 del mismo ejemplo anterior:\n",
    "\n",
    "Comience de nuevo con los 12 números y considere solo el primer bit de cada número. Hay menos 0 bits (5) que 1 bits (7), así que mantenga solo los 5 números con un 0 en la primera posición: 00100, 01111, 00111, 00010 y 01010.\n",
    "Luego, considere el segundo bit de los 5 números restantes: hay menos 1 bits (2) que 0 bits (3), así que mantenga solo los 2 números con un 1 en la segunda posición: 01111 y 01010.\n",
    "En la tercera posición, hay un número igual de 0 bits y 1 bits (uno cada uno). Entonces, para encontrar la clasificación del depurador de CO2, mantenga el número con un 0 en esa posición: 01010.\n",
    "Como solo queda un número, deténgase; la clasificación del depurador de CO2 es 01010, o 10 en decimal.\n",
    "Finalmente, para encontrar la clasificación de soporte vital, multiplique la clasificación del generador de oxígeno (23) por la clasificación del depurador de CO2 (10) para obtener 230.\n",
    "\n",
    "Utilice los números binarios en su informe de diagnóstico para calcular la clasificación del generador de oxígeno y la clasificación del depurador de CO2, luego multiplíquelos. ¿Cuál es la clasificación de soporte vital del submarino? (Asegúrese de representar su respuesta en decimal, no en binario)."
   ]
  },
  {
   "cell_type": "markdown",
   "metadata": {},
   "source": [
    "## Logica de Resolucion\n",
    "\n",
    "En este caso la cosa se pone un poco diferente de lo anterior, tambien vamos a ir revisando todos los valores de la lista, pero ahora iremos partiendo la lista o depurandola, con los valores que coinciden con el valor mas ocurrente(o menos) en esa posicion, hasta que en algun momento nos va a quedar solo 1 valor y ese sera nuestro numero binario, para eso:\n",
    "\n",
    "* Vamos a crear unas funciones, que le pasaremos una lista de los valores de la entrada de datos y luego esta se encargara de ir devolviendonos una nueva lista con lo que nos piden en el ejercicio.\n",
    "\n",
    "\n",
    "* Para el caso de la funcion `revisar_lista_oxigeno` lo que haremos sera:\n",
    "    * pedir como argumentos, la `lista` y la posicion(`iterador`) que queremos revisar.\n",
    "    * Entonces revisaremos todos los valoes de la lista en una posicion y veremos si su valor es `0` o `1` y iremos acumulando.los `contadores_ceros` o `contadores_unos` de acuerdo a lo que corresponda.\n",
    "    * Luego si los valores de los contadores:\n",
    "        * SON IGUALES, agregaremos a una lista todos los valoes que contengan un `1` en esa posicion.\n",
    "        * `contador_cero > contador_uno`, agregaremos a una lista todos los valoes que contengan un `0` en esa posicion.\n",
    "        * `contador_uno > contador_Cero`, agregamos a una lista todos los valores que contengan un `1` en esa posicion.\n",
    "    * Retornamos la lista.\n",
    "\n",
    "* Lo mismo con la funcon de `revisar_lista_depurador`, solo que cambia la condicion.\n",
    "\n",
    "* Con ciclos while vamos a ir haciendo que este proceso se repita una y otra vez hasta que solo quede un valor al final en esa lista.\n",
    "\n",
    "* Convertimos los valores que obtuvimos en formato binario a decimal.\n",
    "\n",
    "* Multiplicamos lo valores decimales y lo asignamos a `resultado`.\n",
    "\n",
    "* Mostramos `resultado` y ese es nuestra respuesta a la Parte 2.\n"
   ]
  },
  {
   "cell_type": "markdown",
   "metadata": {},
   "source": [
    "## Codigo"
   ]
  },
  {
   "cell_type": "code",
   "execution_count": 23,
   "metadata": {},
   "outputs": [
    {
     "name": "stdout",
     "output_type": "stream",
     "text": [
      "1353024\n"
     ]
    }
   ],
   "source": [
    "    \n",
    "def revisar_lista_oxigeno(lista, iterador):\n",
    "    lista_oxigeno = []\n",
    "    contador_cero = 0\n",
    "    contador_uno = 0\n",
    "    for item in lista:\n",
    "        valor = item[iterador]\n",
    "        if valor == '0':\n",
    "            contador_cero += 1\n",
    "        if valor == '1':\n",
    "            contador_uno += 1\n",
    "    if contador_cero == contador_uno:\n",
    "        for item in lista:\n",
    "            if item[iterador] == '1':\n",
    "                lista_oxigeno.append(item)\n",
    "    elif contador_cero > contador_uno:\n",
    "        for item in lista:\n",
    "            if item[iterador] == '0':\n",
    "                lista_oxigeno.append(item)\n",
    "    else:\n",
    "        for item in lista:\n",
    "            if item[iterador] == '1':\n",
    "                lista_oxigeno.append(item)\n",
    "    \n",
    "    return lista_oxigeno\n",
    "\n",
    "\n",
    "def revisar_lista_depurador(lista, iterador):\n",
    "    lista_depurador = []\n",
    "    contador_cero = 0\n",
    "    contador_uno = 0\n",
    "    for item in lista:\n",
    "        valor = item[iterador]\n",
    "        if valor == '0':\n",
    "            contador_cero += 1\n",
    "        if valor == '1':\n",
    "            contador_uno += 1\n",
    "    if contador_cero == contador_uno:\n",
    "        for item in lista:\n",
    "            if item[iterador] == '0':\n",
    "                lista_depurador.append(item)\n",
    "    elif contador_cero < contador_uno:\n",
    "        for item in lista:\n",
    "            if item[iterador] == '0':\n",
    "                lista_depurador.append(item)\n",
    "    else:\n",
    "        for item in lista:\n",
    "            if item[iterador] == '1':\n",
    "                lista_depurador.append(item)\n",
    "    return lista_depurador\n",
    "\n",
    "\n",
    "contenido = open('input_puzzle3.txt', 'r')\n",
    "mensaje = contenido.readlines()\n",
    "resultado_1 =  []\n",
    "resultado_2 = []\n",
    "for linea in mensaje:\n",
    "    resultado_1.append(linea.strip())\n",
    "    resultado_2.append(linea.strip())\n",
    "\n",
    "iterador_1 = 0\n",
    "while iterador_1 < len(resultado_1[0]):\n",
    "    resultado_1 = revisar_lista_oxigeno(resultado_1, iterador_1)\n",
    "    iterador_1 += 1\n",
    "\n",
    "iterador_2 = 0\n",
    "while iterador_2 < len(resultado_2[0]):\n",
    "    resultado_2 = revisar_lista_depurador(resultado_2, iterador_2)\n",
    "    iterador_2 += 1\n",
    "    if len(resultado_2) == 1:\n",
    "        break\n",
    "\n",
    "\n",
    "decimal_oxigeno = binario_a_decimal(resultado_1[0])\n",
    "decimal_depurador = binario_a_decimal(resultado_2[0])\n",
    "resultado = decimal_oxigeno * decimal_depurador\n",
    "print(resultado)"
   ]
  },
  {
   "cell_type": "markdown",
   "metadata": {},
   "source": [
    "## Resultado Parte2: 1353024"
   ]
  }
 ],
 "metadata": {
  "interpreter": {
   "hash": "1c89a90377eece21ee0425ad091a5749733881ced06b623943ecd505384e0cee"
  },
  "kernelspec": {
   "display_name": "Python 3.9.4 64-bit",
   "language": "python",
   "name": "python3"
  },
  "language_info": {
   "codemirror_mode": {
    "name": "ipython",
    "version": 3
   },
   "file_extension": ".py",
   "mimetype": "text/x-python",
   "name": "python",
   "nbconvert_exporter": "python",
   "pygments_lexer": "ipython3",
   "version": "3.9.4"
  },
  "orig_nbformat": 4
 },
 "nbformat": 4,
 "nbformat_minor": 2
}
