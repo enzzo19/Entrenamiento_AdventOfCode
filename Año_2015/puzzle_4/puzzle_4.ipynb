{
 "cells": [
  {
   "cell_type": "markdown",
   "metadata": {},
   "source": [
    "# Puzzle 4\n",
    "\n",
    "--- Day 4: The Ideal Stocking Stuffer ---\n",
    "\n",
    "Santa necesita ayuda para extraer algunas AdventCoins (muy similares a las bitcoins) para usarlas como obsequios para todas las niñas y niños con visión de futuro económica.\n",
    "\n",
    "Para hacer esto, necesita encontrar hash MD5 que, en hexadecimal, comiencen con al menos cinco ceros. La entrada al hash MD5 es una clave secreta (la entrada del rompecabezas, que se indica a continuación) seguida de un número en decimal. Para extraer AdventCoins, debe encontrar a Santa el número positivo más bajo (sin ceros a la izquierda: 1, 2, 3, ...) que produzca tal hash.\n",
    "\n",
    "Por ejemplo:\n",
    "\n",
    "Si su clave secreta es abcdef, la respuesta es 609043, porque el hash MD5 de abcdef609043 comienza con cinco ceros (000001dbbfa ...), y es el número más bajo para hacerlo.\n",
    "Si su clave secreta es pqrstuv, el número más bajo con el que se combina para hacer un hash MD5 que comienza con cinco ceros es 1048970; es decir, el hash MD5 de pqrstuv1048970 parece 000006136ef ..."
   ]
  },
  {
   "cell_type": "markdown",
   "metadata": {},
   "source": [
    "## Su entrada de rompecabezas es 'ckczppom'"
   ]
  },
  {
   "cell_type": "markdown",
   "metadata": {},
   "source": [
    "## Logica de Resolucion"
   ]
  },
  {
   "cell_type": "markdown",
   "metadata": {},
   "source": [
    "## Codigo"
   ]
  },
  {
   "cell_type": "code",
   "execution_count": null,
   "metadata": {},
   "outputs": [],
   "source": [
    "entrada = 'ckczppom'\n"
   ]
  }
 ],
 "metadata": {
  "interpreter": {
   "hash": "1c89a90377eece21ee0425ad091a5749733881ced06b623943ecd505384e0cee"
  },
  "kernelspec": {
   "display_name": "Python 3.9.4 64-bit",
   "language": "python",
   "name": "python3"
  },
  "language_info": {
   "name": "python",
   "version": "3.9.4"
  },
  "orig_nbformat": 4
 },
 "nbformat": 4,
 "nbformat_minor": 2
}
