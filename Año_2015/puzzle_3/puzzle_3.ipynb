{
 "cells": [
  {
   "cell_type": "markdown",
   "metadata": {},
   "source": [
    "# Puzzle 3\n",
    "\n",
    "--- Day 3: Perfectly Spherical Houses in a Vacuum ---\n",
    "\n",
    "Santa está entregando regalos a una cuadrícula bidimensional infinita de casas.\n",
    "\n",
    "Comienza entregando un regalo a la casa en su lugar de inicio, y luego un elfo en el Polo Norte lo llama por radio y le dice dónde debe moverse a continuación. Los movimientos son siempre exactamente una casa al norte (^), sur (v), este (>) u oeste (<). Después de cada mudanza, entrega otro regalo a la casa en su nueva ubicación.\n",
    "\n",
    "Sin embargo, el elfo en el polo norte ha tomado demasiado ponche de huevo, por lo que sus direcciones están un poco desviadas, y Santa termina visitando algunas casas más de una vez. ¿Cuántas casas reciben al menos un regalo?\n",
    "\n",
    "Por ejemplo:\n",
    "\n",
    "* ` > ` entrega regalos a 2 casas: una en el lugar de inicio y otra en el este.\n",
    "* `^ > v <` entrega regalos a 4 casas en un cuadrado, incluso dos veces a la casa en su ubicación inicial / final.\n",
    "* `^ v ^ v ^ v ^ v ^ v` entrega un montón de regalos a algunos niños muy afortunados en solo 2 casas."
   ]
  },
  {
   "cell_type": "markdown",
   "metadata": {},
   "source": [
    "## Logica de Resolucion\n",
    "\n",
    "Como logica tome coordenadas bidimensionales, como la de los ejes cartesianos para el incio de santa que guardo en `posicion` y su valor son `[0, 0]` para los valores de `[x, y]` para tener cierta referencia, es decir comienza en el origen, luego cada uno de los caracteres dentro del archivo nos permitira saber como se va a desplazar Santa donde si por ejemplo:\n",
    "\n",
    "* Partiendo desde el origen `[0, 0]`:\n",
    "    * y el caracter que le toca es `^` su nueva posicion es `[0, 1]` entonces se habra dezplazado una posicion hacia arriba en el eje Y\n",
    "    * y el caracter que le toca es `v` su nueva posicion es `[0, -1]` entonces se habra dezplazado una posicion hacia abajo en el eje Y\n",
    "    * y el caracter que le toca es `>` su nueva posicion es `[1, 0]` entonces se habra dezplazado una posicion hacia la derecha en el eje X\n",
    "    * y el caracter que le toca es `>` su nueva posicion es `[-1, 0]` entonces se habra dezplazado una posicion hacia la izquierda en el eje X\n",
    "\n",
    "## Imagen para guiarse mejor\n",
    "<img src='https://www.superprof.es/apuntes/wp-content/uploads/2018/06/eje-de-abscisas-y-coordenadas-cuadrantes.jpg-700x660.png' width='400px' height='400px'>\n",
    "\n",
    "Luego esos valores vamos a añadirlos a una lista que llevara la cuenta del camino que va recorriendo Santa y que luego con un algoritmo de eliminacion de repetidos, nos quedaran solo los lugares, donde al menos haya pasado una vez\n",
    "\n",
    "Al final mostramos el tamaño de esa lista y ese es nuestro resultado :)\n"
   ]
  },
  {
   "cell_type": "markdown",
   "metadata": {},
   "source": [
    "## Mis Datos\n",
    "\n",
    "Los datos que me dieron para el ejercicio si quieres practicar lo puedes encontrar en el archivo input_puzzle3.txt"
   ]
  },
  {
   "cell_type": "markdown",
   "metadata": {},
   "source": [
    "## Codigo"
   ]
  },
  {
   "cell_type": "code",
   "execution_count": 11,
   "metadata": {},
   "outputs": [
    {
     "name": "stdout",
     "output_type": "stream",
     "text": [
      "2565\n"
     ]
    }
   ],
   "source": [
    "contenido = open('input_puzzle3.txt', 'r')\n",
    "mensaje = contenido.read()\n",
    "camino = []\n",
    "posicion = [0, 0]\n",
    "camino.append(posicion)\n",
    "for caracter in mensaje:\n",
    "    if caracter == '^':\n",
    "        movida = [posicion[0], posicion[1] + 1]\n",
    "    if caracter == 'v':\n",
    "        movida = [posicion[0], posicion[1] - 1]\n",
    "    if caracter == '>':\n",
    "        movida = [posicion[0] + 1, posicion[1]]\n",
    "    if caracter == '<':\n",
    "        movida = [posicion[0] - 1, posicion[1]]\n",
    "    camino.append(movida)\n",
    "    posicion = movida\n",
    "\n",
    "result = []\n",
    "for item in camino:\n",
    "    if item not in result:\n",
    "        result.append(item)\n",
    "\n",
    "print(len(result))"
   ]
  },
  {
   "cell_type": "markdown",
   "metadata": {},
   "source": [
    "## Resultado Parte1: 2565"
   ]
  },
  {
   "cell_type": "markdown",
   "metadata": {},
   "source": [
    "## Parte 2\n",
    "\n",
    "--- La segunda parte ---\n",
    "Al año siguiente, para acelerar el proceso, Santa crea una versión robótica de sí mismo, Robo-Santa, para entregarle regalos.\n",
    "\n",
    "Santa y Robo-Santa comienzan en el mismo lugar (entregando dos regalos en la misma casa de inicio), luego se turnan para moverse según las instrucciones del elfo, que está leyendo con ponche de huevo el mismo guión del año anterior.\n",
    "\n",
    "Este año, ¿cuántas casas reciben al menos un regalo?\n",
    "\n",
    "Por ejemplo:\n",
    "\n",
    "* `^ v` entrega regalos a 3 casas, porque Santa va al norte y luego Robo-Santa va al sur.\n",
    "* `^ > v <` ahora entrega regalos a 3 casas, y Santa y Robo-Santa terminan donde empezaron.\n",
    "* `^ v ^ v ^ v ^ v ^ v` ahora entrega regalos a 11 casas, con Santa yendo en una dirección y Robo-Santa en la otra."
   ]
  },
  {
   "cell_type": "markdown",
   "metadata": {},
   "source": [
    "## Logica de Resolucion\n"
   ]
  },
  {
   "cell_type": "markdown",
   "metadata": {},
   "source": [
    "## Codigo"
   ]
  },
  {
   "cell_type": "code",
   "execution_count": 12,
   "metadata": {},
   "outputs": [
    {
     "name": "stdout",
     "output_type": "stream",
     "text": [
      "2639\n"
     ]
    }
   ],
   "source": [
    "contenido = open('input_puzzle3.txt', 'r')\n",
    "mensaje = contenido.read()\n",
    "camino = []\n",
    "posicion_santa = [0, 0]\n",
    "posicion_robosanta = [0, 0]\n",
    "camino.append(posicion_santa)\n",
    "camino.append(posicion_robosanta)\n",
    "turno = 1\n",
    "movida_santa = posicion_santa\n",
    "movida_robosanta = posicion_robosanta\n",
    "for caracter in mensaje:\n",
    "    if turno % 2 == 0:\n",
    "        if caracter == '^':\n",
    "            movida_santa = [posicion_santa[0], posicion_santa[1] + 1]\n",
    "        if caracter == 'v':\n",
    "            movida_santa = [posicion_santa[0], posicion_santa[1] - 1]\n",
    "        if caracter == '>':\n",
    "            movida_santa = [posicion_santa[0] + 1, posicion_santa[1]]\n",
    "        if caracter == '<':\n",
    "            movida_santa = [posicion_santa[0] - 1, posicion_santa[1]]\n",
    "    else:\n",
    "        if caracter == '^':\n",
    "            movida_robosanta = [posicion_robosanta[0], posicion_robosanta[1] + 1]\n",
    "        if caracter == 'v':\n",
    "            movida_robosanta = [posicion_robosanta[0], posicion_robosanta[1] - 1]\n",
    "        if caracter == '>':\n",
    "            movida_robosanta = [posicion_robosanta[0] + 1, posicion_robosanta[1]]\n",
    "        if caracter == '<':\n",
    "            movida_robosanta = [posicion_robosanta[0] - 1, posicion_robosanta[1]]\n",
    "    camino.append(movida_santa)\n",
    "    camino.append(movida_robosanta)\n",
    "    posicion_santa = movida_santa\n",
    "    posicion_robosanta = movida_robosanta\n",
    "    turno += 1\n",
    "result = []\n",
    "for item in camino:\n",
    "    if item not in result:\n",
    "        result.append(item)\n",
    "\n",
    "print(len(result))"
   ]
  },
  {
   "cell_type": "markdown",
   "metadata": {},
   "source": [
    "## Resultado Parte2: 2639"
   ]
  }
 ],
 "metadata": {
  "interpreter": {
   "hash": "1c89a90377eece21ee0425ad091a5749733881ced06b623943ecd505384e0cee"
  },
  "kernelspec": {
   "display_name": "Python 3.9.4 64-bit",
   "language": "python",
   "name": "python3"
  },
  "language_info": {
   "codemirror_mode": {
    "name": "ipython",
    "version": 3
   },
   "file_extension": ".py",
   "mimetype": "text/x-python",
   "name": "python",
   "nbconvert_exporter": "python",
   "pygments_lexer": "ipython3",
   "version": "3.9.4"
  },
  "orig_nbformat": 4
 },
 "nbformat": 4,
 "nbformat_minor": 2
}
