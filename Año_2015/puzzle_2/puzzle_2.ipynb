{
 "cells": [
  {
   "cell_type": "markdown",
   "metadata": {},
   "source": [
    "# Puzzle 2\n",
    "--- Día 2: I Was Told There Would Be No Math ---\n",
    "\n",
    "\n",
    "Los elfos se están quedando sin papel de regalo, por lo que deben enviar un pedido para obtener más. Tienen una lista de las dimensiones (largo l, ancho w y alto h) de cada regalo, y solo quieren pedir exactamente lo que necesitan.\n",
    "\n",
    "Afortunadamente, cada regalo es una caja (un prisma rectangular recto perfecto), lo que facilita un poco el cálculo del papel de envolver requerido para cada regalo: encuentre el área de la superficie de la caja, que es 2 * l * w + 2 * w * h + 2 * h * l. Los elfos también necesitan un poco de papel extra para cada regalo: el área del lado más pequeño.\n",
    "\n",
    "Por ejemplo:\n",
    "\n",
    "Un regalo con dimensiones 2x3x4 requiere 2 * 6 + 2 * 12 + 2 * 8 = 52 pies cuadrados de papel de envolver más 6 pies cuadrados de holgura, para un total de 58 pies cuadrados.\n",
    "Un regalo con dimensiones 1x1x10 requiere 2 * 1 + 2 * 10 + 2 * 10 = 42 pies cuadrados de papel de regalo más 1 pie cuadrado de holgura, para un total de 43 pies cuadrados.\n",
    "Todos los números de la lista de elfos están en pies. ¿Cuántos pies cuadrados totales de papel de regalo deben pedir?"
   ]
  },
  {
   "cell_type": "markdown",
   "metadata": {},
   "source": [
    "## Logica de Resolucion\n",
    "\n",
    "Lo que intentamos buscar es la cantidad total de papel que necesitan los elfos para envolver su regalos, para eso:\n",
    "\n",
    "* Vamos a guardar el contenido de nuestra entrada en un arhico y luego lo leeremos con las instrucciones `open('input_puzzle', 'r')` y pasaremos el contenido a una variable llamada `mensaje` con la instruccion `.readlines()`.\n",
    "\n",
    "* Luego usaremos una variable llamada `papel_total` que ira contando la cantidad necesaria de papel para los elfos.\n",
    "\n",
    "* Recorreremos el mensaje utilizando un ciclo for y como cada linea viene '20x3x11\\n', utilizaremos, `.strip()` para poder sacarle los espacio y luego `.split('x')` para que nos devuelva los 3 valores que necesitamos y los almacenaremos en la variable `valores`\n",
    "\n",
    "* Separaremos los valores en `l` (largo) `w` (ancho) 'h' (alto)\n",
    "\n",
    "* Utilizaremos la funcion matematica para calcular el `papel_caja`\n",
    "\n",
    "* Luego crearemos una lista donde almacenaremos las dimensiones, para poder encontrar los 2 valores mas chicos, una vez que encontremos el primer valor, lo sacaremos de la lista y encontraremos el segundo mas chico\n",
    "\n",
    "* Con `menor1` y `menor2` calculo lo que necesito de `papel_extra`\n",
    "\n",
    "* En cada iteracion del ciclo voy incrementando el valor de `papel_total` con la suma de `papel_caja + papel_extra`\n",
    "\n",
    "* Por ultimo mostramos `papel_total` y obtenemos el resultado"
   ]
  },
  {
   "cell_type": "markdown",
   "metadata": {},
   "source": [
    "## Mis Datos\n",
    "\n",
    "Los datos que me dieron para el ejercicio si quieres practicar lo puedes encontrar en el archivo input_puzzle2.txt"
   ]
  },
  {
   "cell_type": "markdown",
   "metadata": {},
   "source": [
    "## Codigo"
   ]
  },
  {
   "cell_type": "code",
   "execution_count": 49,
   "metadata": {},
   "outputs": [
    {
     "name": "stdout",
     "output_type": "stream",
     "text": [
      "1606483\n"
     ]
    }
   ],
   "source": [
    "contenido = open('input_puzzle2.txt', 'r')\n",
    "mensaje = contenido.readlines()\n",
    "papel_total = 0\n",
    "for linea in mensaje:\n",
    "    valores = linea.strip().split('x')\n",
    "    l = int(valores[0])\n",
    "    w = int(valores[1])\n",
    "    h = int(valores[2])\n",
    "    papel_caja = 2 * l * w + 2 * w * h + 2 * h * l\n",
    "    dimensiones = [l, w, h]\n",
    "    menor1 = min(dimensiones)\n",
    "    if dimensiones[0] == menor1:\n",
    "        dimensiones.remove(l)\n",
    "    elif dimensiones[1] == menor1:\n",
    "        dimensiones.remove(w)\n",
    "    else:\n",
    "        dimensiones.remove(h)\n",
    "    menor2 = min(dimensiones)\n",
    "    papel_extra = menor1 * menor2\n",
    "    papel_total += papel_caja + papel_extra\n",
    "\n",
    "print(papel_total)"
   ]
  },
  {
   "cell_type": "markdown",
   "metadata": {},
   "source": [
    "## Alternativa"
   ]
  },
  {
   "cell_type": "code",
   "execution_count": 52,
   "metadata": {},
   "outputs": [
    {
     "name": "stdout",
     "output_type": "stream",
     "text": [
      "1606483\n"
     ]
    }
   ],
   "source": [
    "contenido = open('input_puzzle2.txt', 'r')\n",
    "mensaje = contenido.readlines()\n",
    "papel_total = 0\n",
    "for linea in mensaje:\n",
    "    dimensiones = linea.strip().split('x')\n",
    "    dimensiones = list(map(int, dimensiones))\n",
    "    l = int(dimensiones[0])\n",
    "    w = int(dimensiones[1])\n",
    "    h = int(dimensiones[2])\n",
    "    papel_caja = 2 * l * w + 2 * w * h + 2 * h * l\n",
    "    menor1 = min(dimensiones)\n",
    "    if dimensiones[0] == menor1:\n",
    "        dimensiones.pop(0)\n",
    "    elif dimensiones[1] == menor1:\n",
    "        dimensiones.pop(1)\n",
    "    else:\n",
    "        dimensiones.pop(2)\n",
    "    menor2 = min(dimensiones)\n",
    "    papel_extra = menor1 * menor2\n",
    "    papel_total += papel_caja + papel_extra\n",
    "\n",
    "print(papel_total)"
   ]
  },
  {
   "cell_type": "markdown",
   "metadata": {},
   "source": [
    "## Respuesta Parte1: 1606483"
   ]
  },
  {
   "cell_type": "markdown",
   "metadata": {},
   "source": [
    "## Parte 2\n",
    "\n",
    "--- La segunda parte ---\n",
    "\n",
    "\n",
    "Los elfos también se están quedando sin cinta. La cinta tiene el mismo ancho, por lo que solo tienen que preocuparse por la longitud que necesitan para pedir, que nuevamente les gustaría ser exacta.\n",
    "\n",
    "La cinta necesaria para envolver un regalo es la distancia más corta alrededor de sus lados, o el perímetro más pequeño de cualquier cara. Cada regalo también requiere un lazo hecho con cinta; los pies de cinta necesarios para el arco perfecto es igual a los pies cúbicos de volumen del presente. Sin embargo, no preguntes cómo atan el moño; nunca lo dirán.\n",
    "\n",
    "Por ejemplo:\n",
    "\n",
    "Un regalo con dimensiones 2x3x4 requiere 2 + 2 + 3 + 3 = 10 pies de cinta para envolver el presente más 2 * 3 * 4 = 24 pies de cinta para el arco, para un total de 34 pies.\n",
    "Un regalo con dimensiones 1x1x10 requiere 1 + 1 + 1 + 1 = 4 pies de cinta para envolver el presente más 1 * 1 * 10 = 10 pies de cinta para el arco, para un total de 14 pies.\n",
    "¿Cuántos pies en total de cinta deberían pedir?"
   ]
  },
  {
   "cell_type": "markdown",
   "metadata": {},
   "source": [
    "## Logica de Resolucion\n",
    "\n",
    "En este caso tenemos que estar atentos a los ejemplos y para gregar al ejercicio anterior lo que haremos:\n",
    "\n",
    "* Plantear la formula de `cinta_caja` como `l * w * h`\n",
    "\n",
    "* Luego seguiremos necesitando los 2 lados mas chicos y la formula para `cinta_extra` va a quedar como `2 * menor1 + 2 * menor2`\n",
    "\n",
    "* Luego en cada ciclo iremos incrementando el valor de `cinta_total`\n",
    "\n",
    "* Por ultimo mostraremos el valor de `cinta_total`"
   ]
  },
  {
   "cell_type": "markdown",
   "metadata": {},
   "source": [
    "## Codigo"
   ]
  },
  {
   "cell_type": "code",
   "execution_count": 50,
   "metadata": {},
   "outputs": [
    {
     "name": "stdout",
     "output_type": "stream",
     "text": [
      "3842356\n"
     ]
    }
   ],
   "source": [
    "contenido = open('input_puzzle2.txt', 'r')\n",
    "mensaje = contenido.readlines()\n",
    "cinta_total = 0\n",
    "for linea in mensaje:\n",
    "    valores = linea.strip().split('x')\n",
    "    l = int(valores[0])\n",
    "    w = int(valores[1])\n",
    "    h = int(valores[2])\n",
    "    cinta_caja = l * h * w\n",
    "    dimensiones = [l, w, h]\n",
    "    menor1 = min(dimensiones)\n",
    "    if dimensiones[0] == menor1:\n",
    "        dimensiones.remove(l)\n",
    "    elif dimensiones[1] == menor1:\n",
    "        dimensiones.remove(w)\n",
    "    else:\n",
    "        dimensiones.remove(h)\n",
    "    menor2 = min(dimensiones)\n",
    "    cinta_extra = 2 *menor1 +  2 * menor2\n",
    "    cinta_total += cinta_caja + cinta_extra\n",
    "\n",
    "print(cinta_total)"
   ]
  },
  {
   "cell_type": "markdown",
   "metadata": {},
   "source": [
    "## Alternativa"
   ]
  },
  {
   "cell_type": "code",
   "execution_count": 51,
   "metadata": {},
   "outputs": [
    {
     "name": "stdout",
     "output_type": "stream",
     "text": [
      "3842356\n"
     ]
    }
   ],
   "source": [
    "contenido = open('input_puzzle2.txt', 'r')\n",
    "mensaje = contenido.readlines()\n",
    "cinta_total = 0\n",
    "for linea in mensaje:\n",
    "    dimensiones = linea.strip().split('x')\n",
    "    dimensiones = list(map(int, dimensiones))\n",
    "    l = int(dimensiones[0])\n",
    "    w = int(dimensiones[1])\n",
    "    h = int(dimensiones[2])\n",
    "    cinta_caja = l * w * h\n",
    "    menor1 = min(dimensiones)\n",
    "    if dimensiones[0] == menor1:\n",
    "        dimensiones.pop(0)\n",
    "    elif dimensiones[1] == menor1:\n",
    "        dimensiones.pop(1)\n",
    "    else:\n",
    "        dimensiones.pop(2)\n",
    "    menor2 = min(dimensiones)\n",
    "    cinta_extra = 2 * menor1 + 2 * menor2\n",
    "    cinta_total += cinta_caja + cinta_extra\n",
    "\n",
    "print(cinta_total)\n"
   ]
  },
  {
   "cell_type": "markdown",
   "metadata": {},
   "source": [
    "# Respuesta Parte2: 3842356"
   ]
  }
 ],
 "metadata": {
  "interpreter": {
   "hash": "1c89a90377eece21ee0425ad091a5749733881ced06b623943ecd505384e0cee"
  },
  "kernelspec": {
   "display_name": "Python 3.9.4 64-bit",
   "language": "python",
   "name": "python3"
  },
  "language_info": {
   "codemirror_mode": {
    "name": "ipython",
    "version": 3
   },
   "file_extension": ".py",
   "mimetype": "text/x-python",
   "name": "python",
   "nbconvert_exporter": "python",
   "pygments_lexer": "ipython3",
   "version": "3.9.4"
  },
  "orig_nbformat": 4
 },
 "nbformat": 4,
 "nbformat_minor": 2
}
